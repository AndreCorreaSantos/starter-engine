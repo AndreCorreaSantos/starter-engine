{
 "cells": [
  {
   "cell_type": "code",
   "execution_count": 1,
   "metadata": {},
   "outputs": [
    {
     "data": {
      "image/png": "[encoded data removed]",
      "text/plain": [
       "<Figure size 640x480 with 1 Axes>"
      ]
     },
     "metadata": {},
     "output_type": "display_data"
    }
   ],
   "source": [
    "import matplotlib.pyplot as plt\n",
    "from torchvision import datasets, transforms\n",
    "import torch\n",
    "import onnx\n",
    "\n",
    "transform = transforms.Compose([transforms.ToTensor()])\n",
    "test_loader = torch.utils.data.DataLoader(datasets.MNIST('./train/data', train=False, transform=transform,download=True),\n",
    "                                        batch_size=1000, shuffle=False)\n",
    "# Extract a single image from the validation set\n",
    "data_iter = iter(test_loader)\n",
    "images, labels = next(data_iter)\n",
    "image = images[0].numpy().squeeze() # normal gets 6, 4 ,8 wrong --> quantized gets same wrong.\n",
    "label = labels[0].item()\n",
    "\n",
    "# Plot the image\n",
    "plt.imshow(image, cmap='gray')\n",
    "plt.title(f'Label: {label}')\n",
    "plt.show()"
   ]
  },
  {
   "cell_type": "markdown",
   "metadata": {},
   "source": [
    "Integer Model Performance"
   ]
  },
  {
   "cell_type": "code",
   "execution_count": 4,
   "metadata": {},
   "outputs": [
    {
     "name": "stdout",
     "output_type": "stream",
     "text": [
      "Float\n",
      "Test Accuracy: 87.56%\n",
      "Integer\n",
      "Test Accuracy: 10.81%\n"
     ]
    }
   ],
   "source": [
    "import numpy as np\n",
    "from engine import StarterModel\n",
    "\n",
    "# Initialize model\n",
    "\n",
    "\n",
    "\n",
    "for useInt in [False,True]:\n",
    "    correct = 0\n",
    "    total = 0\n",
    "    mod = StarterModel(\"train/model.onnx\", useInt)\n",
    "    for images, labels in test_loader:\n",
    "        # Convert images to numpy array and preprocess\n",
    "        images_np = images.numpy()\n",
    "        processed_images = images_np\n",
    "        if useInt:\n",
    "            processed_images = (images_np * 255).astype(np.int32)\n",
    "        \n",
    "        # Remove channel dimension (batch, 1, 28, 28) -> (batch, 28, 28)\n",
    "        processed_images = processed_images.squeeze(axis=1)\n",
    "        \n",
    "        # Iterate through each image in the batch\n",
    "        for i in range(len(processed_images)):\n",
    "            img = processed_images[i]\n",
    "            true_label = labels[i].item()\n",
    "            \n",
    "            # Get prediction\n",
    "            output = mod.infer(img)\n",
    " \n",
    "            # Update counts\n",
    "            if output == true_label:\n",
    "                correct += 1\n",
    "        total += labels.size(0)\n",
    "\n",
    "    # Calculate accuracy\n",
    "    accuracy = correct / total\n",
    "    \n",
    "    print(\"{0}\".format(\"Integer\" if useInt else \"Float\"))\n",
    "    print(f'Test Accuracy: {accuracy * 100:.2f}%')"
   ]
  }
 ],
 "metadata": {
  "kernelspec": {
   "display_name": "Python 3",
   "language": "python",
   "name": "python3"
  },
  "language_info": {
   "codemirror_mode": {
    "name": "ipython",
    "version": 3
   },
   "file_extension": ".py",
   "mimetype": "text/x-python",
   "name": "python",
   "nbconvert_exporter": "python",
   "pygments_lexer": "ipython3",
   "version": "3.8.20"
  }
 },
 "nbformat": 4,
 "nbformat_minor": 2
}
