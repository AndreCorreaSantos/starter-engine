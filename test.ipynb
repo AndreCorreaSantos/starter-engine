{
 "cells": [
  {
   "cell_type": "code",
   "execution_count": 5,
   "metadata": {},
   "outputs": [
    {
     "data": {
      "image/png": "[encoded data removed]",
      "text/plain": [
       "<Figure size 640x480 with 1 Axes>"
      ]
     },
     "metadata": {},
     "output_type": "display_data"
    }
   ],
   "source": [
    "import matplotlib.pyplot as plt\n",
    "from torchvision import datasets, transforms\n",
    "import torch\n",
    "import onnx\n",
    "\n",
    "transform = transforms.Compose([transforms.ToTensor()])\n",
    "test_loader = torch.utils.data.DataLoader(datasets.MNIST('./train/data', train=False, transform=transform,download=True),\n",
    "                                        batch_size=1000, shuffle=False)\n",
    "# Extract a single image from the validation set\n",
    "data_iter = iter(test_loader)\n",
    "images, labels = next(data_iter)\n",
    "image = images[10].numpy().squeeze()\n",
    "label = labels[10].item()\n",
    "\n",
    "# Plot the image\n",
    "plt.imshow(image, cmap='gray')\n",
    "plt.title(f'Label: {label}')\n",
    "plt.show()"
   ]
  },
  {
   "cell_type": "code",
   "execution_count": 6,
   "metadata": {},
   "outputs": [],
   "source": [
    "import numpy as np\n",
    "from engine_compile import Model\n",
    "from engine_compile import FLOAT, INT\n",
    "\n",
    "mod = Model(\"train/model.onnx\", FLOAT)\n",
    "mod.init_model()\n",
    "with open(\"engineDialect/test/Engine/PythonOutput.mlir\", \"w+\") as f:\n",
    "    f.write(mod.translate(image.flatten()))"
   ]
  },
  {
   "cell_type": "code",
   "execution_count": 7,
   "metadata": {},
   "outputs": [
    {
     "name": "stdout",
     "output_type": "stream",
     "text": [
      "[0]\n"
     ]
    }
   ],
   "source": [
    "from engine import Model\n",
    "mod = Model(\"train/model.onnx\")\n",
    "\n",
    "res = list(mod.infer(image).flatten())\n",
    "print(res)"
   ]
  },
  {
   "cell_type": "code",
   "execution_count": 8,
   "metadata": {},
   "outputs": [],
   "source": [
    "def traverse(obj):\n",
    "    if isinstance(obj, dict):\n",
    "        for key, value in obj.items():\n",
    "            print(f'Key: {key}')\n",
    "            traverse(value)\n",
    "    elif isinstance(obj, list):\n",
    "        for item in obj:\n",
    "            traverse(item)\n",
    "    else:\n",
    "        print(f'Value: {obj}')\n"
   ]
  }
 ],
 "metadata": {
  "kernelspec": {
   "display_name": "Python 3",
   "language": "python",
   "name": "python3"
  },
  "language_info": {
   "codemirror_mode": {
    "name": "ipython",
    "version": 3
   },
   "file_extension": ".py",
   "mimetype": "text/x-python",
   "name": "python",
   "nbconvert_exporter": "python",
   "pygments_lexer": "ipython3",
   "version": "3.8.20"
  }
 },
 "nbformat": 4,
 "nbformat_minor": 2
}
