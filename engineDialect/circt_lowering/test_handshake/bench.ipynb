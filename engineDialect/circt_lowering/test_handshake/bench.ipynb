{
 "cells": [
  {
   "cell_type": "code",
   "execution_count": 20,
   "metadata": {},
   "outputs": [],
   "source": [
    "import numpy as np\n",
    "def print_shape(array):\n",
    "    result =\"\"\n",
    "    for dim in array:\n",
    "        result += str(dim) + \"x\"\n",
    "    result += \"i32\"\n",
    "    return result\n",
    "\n",
    "def print_data(array):\n",
    "    return np.array2string(array.astype(np.int32), separator=', ', formatter={'int_kind': lambda x: str(x)}, max_line_width=np.inf, threshold=array.size).replace(\"\\n\", \"\")\n",
    "\n",
    "\n",
    "\n",
    "def write_file(const_size):\n",
    "    data = np.zeros(const_size)\n",
    "    shape = print_shape(data.shape)\n",
    "    values = print_data(data)\n",
    "    template =  f\"\"\"\n",
    "            module {{\n",
    "            func.func @main() {{\n",
    "                \"engine.settings\"() {{ value = 1 : i32, type = 0 : i32 }} : () -> ()\n",
    "                %_model.fc1.weight = \"engine.constant\"() {{value=dense<{values}>:tensor<{shape}>}} : () -> memref<{shape}>\n",
    "\n",
    "                func.return \n",
    "            }}\n",
    "            }}\n",
    "        \"\"\"\n",
    "\n",
    "    with open('stress.mlir', 'w+') as f:\n",
    "        f.write(template)\n",
    "    return template"
   ]
  },
  {
   "cell_type": "code",
   "execution_count": 27,
   "metadata": {},
   "outputs": [
    {
     "name": "stderr",
     "output_type": "stream",
     "text": [
      "Running tests:  69%|██████▉   | 69/100 [07:33<08:36, 16.66s/iter]"
     ]
    }
   ],
   "source": [
    "import subprocess\n",
    "import time\n",
    "from tqdm import tqdm\n",
    "script_path = \"./hlstool_test.sh\" \n",
    "\n",
    "execs = []\n",
    "end =100\n",
    "for i in tqdm(range(0, end), desc=\"Running tests\", unit=\"iter\"):\n",
    "    write_file((i+1))\n",
    "    start_time = time.time()\n",
    "    result = subprocess.run([script_path], capture_output=True, text=True)\n",
    "    end_time = time.time()\n",
    "    execs.append(end_time - start_time)\n",
    "\n",
    "import matplotlib.pyplot as plt\n",
    "\n",
    "plt.plot(range(0,end), execs)\n",
    "plt.ylabel(\"Execution Time (s)\")\n",
    "plt.xlabel(\"Constant Size\")\n",
    "plt.show()"
   ]
  }
 ],
 "metadata": {
  "kernelspec": {
   "display_name": "base",
   "language": "python",
   "name": "python3"
  },
  "language_info": {
   "codemirror_mode": {
    "name": "ipython",
    "version": 3
   },
   "file_extension": ".py",
   "mimetype": "text/x-python",
   "name": "python",
   "nbconvert_exporter": "python",
   "pygments_lexer": "ipython3",
   "version": "3.11.7"
  }
 },
 "nbformat": 4,
 "nbformat_minor": 2
}
